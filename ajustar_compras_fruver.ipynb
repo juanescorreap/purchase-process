{
 "cells": [
  {
   "cell_type": "code",
   "execution_count": null,
   "id": "057eee3a-1c78-4ac3-aa0d-06e70fad349d",
   "metadata": {
    "tags": []
   },
   "outputs": [],
   "source": [
    "import numpy as np\n",
    "import pandas as pd\n",
    "import snowflake.connector\n",
    "from datetime import datetime, timedelta\n",
    "import requests\n",
    "import io"
   ]
  },
  {
   "cell_type": "code",
   "execution_count": null,
   "id": "9091604e-c158-4f72-994a-5c70a110ad17",
   "metadata": {},
   "outputs": [],
   "source": [
    "#Importar planes de compra en formato csv\n",
    "df_plan_fruver_nacional = pd.read_csv(r\"C:\\Users\\juane\\Downloads\\PLAN_FRUVER_NACIONAL.csv\")\n",
    "df_plan_kvi_nacional = pd.read_csv(r\"C:\\Users\\juane\\Downloads\\PLAN_KVI_NACIONAL.csv\")\n",
    "df_plan_fruver_bogota = pd.read_csv(r\"C:\\Users\\juane\\Downloads\\PLAN_FRUVER_BOGOTA.csv\")\n",
    "df_plan_kvi_bogota = pd.read_csv(r\"C:\\Users\\juane\\Downloads\\PLAN_KVI_BOGOTA.csv\")"
   ]
  },
  {
   "cell_type": "code",
   "execution_count": null,
   "id": "38ef974a-949b-416a-94eb-1a220d875b0d",
   "metadata": {
    "tags": []
   },
   "outputs": [],
   "source": [
    "#Definir variables con lista de skus a filtrar\n",
    "sku_ids_to_filter = [3396,3404,3747,2530,2735]"
   ]
  },
  {
   "cell_type": "code",
   "execution_count": null,
   "id": "b855b53d-1344-4e36-9b73-5e2217e125cb",
   "metadata": {},
   "outputs": [],
   "source": [
    "#Filtrar planes de compra respecto a la ciudad y los skus de trato especial\n",
    "df_plan_fruver_nacional = df_plan_fruver_nacional[~df_plan_fruver_nacional['Sku Id'].isin(sku_ids_to_filter)]\n",
    "df_plan_fruver_nacional = df_plan_fruver_nacional[df_plan_fruver_nacional['City ID'] != 'BogotC!Exito']\n",
    "df_plan_kvi_nacional = df_plan_kvi_nacional[df_plan_kvi_nacional['Sku Id'].isin(sku_ids_to_filter)]\n",
    "df_plan_kvi_nacional = df_plan_kvi_nacional[df_plan_kvi_nacional['City ID'] != 'BogotC!Exito']\n",
    "df_plan_fruver_bogota = df_plan_fruver_bogota[~df_plan_fruver_bogota['Sku Id'].isin(sku_ids_to_filter)]\n",
    "df_plan_fruver_bogota = df_plan_fruver_bogota[df_plan_fruver_bogota['City ID'] == 'BogotC!Exito']\n",
    "df_plan_kvi_bogota = df_plan_kvi_bogota[df_plan_kvi_bogota['Sku Id'].isin(sku_ids_to_filter)]\n",
    "df_plan_kvi_bogota = df_plan_kvi_bogota[df_plan_kvi_bogota['City ID'] == 'BogotC!Exito']"
   ]
  },
  {
   "cell_type": "code",
   "execution_count": null,
   "id": "7d1245f9-4a18-4bf0-a2c3-29ced464b630",
   "metadata": {
    "tags": []
   },
   "outputs": [],
   "source": [
    "#Cocatenar en uno los diferentes planes de compra\n",
    "df_plan_fruver_colombia = pd.concat([df_plan_fruver_nacional, df_plan_kvi_nacional, df_plan_fruver_bogota, df_plan_kvi_bogota])\n",
    "df_plan_fruver_colombia = df_plan_fruver_colombia.reset_index(drop=True)"
   ]
  },
  {
   "cell_type": "code",
   "execution_count": null,
   "id": "7bb2686a-b68a-4dc0-9ae8-fbf77a2d9f7e",
   "metadata": {},
   "outputs": [],
   "source": [
    "#Crear columna warehouse product id\n",
    "df_plan_fruver_colombia['WAREHOUSE_PRODUCT_ID'] = df_plan_fruver_colombia['Warehouseid'].astype(str) + '-' + df_plan_fruver_colombia['Sku Id'].astype(str)"
   ]
  },
  {
   "cell_type": "code",
   "execution_count": null,
   "id": "b25479a5-670f-461a-b0db-c25f476dd229",
   "metadata": {},
   "outputs": [],
   "source": [
    "# Lista de SKUs que deseas procesar\n",
    "skus_a_procesar = [3396,3404,3747,2530,2735] \n",
    "\n",
    "# Filtrar el DataFrame para los SKUs específicos\n",
    "df_plan_fruver_colombia.loc[df_plan_fruver_colombia['Sku Id'].isin(skus_a_procesar), 'ADJUSTED QUANTITY'] = (\n",
    "    df_plan_fruver_colombia.loc[df_plan_fruver_colombia['Sku Id'].isin(skus_a_procesar)].apply(\n",
    "        lambda row: round(max(row['Average Daily Sales for Past 7 Days']* 1, row['Purchase Quantity']), 0)\n",
    "        if row['Purchase Quantity'] < row['Average Daily Sales for Past 7 Days'] * 1\n",
    "        else round(row['Purchase Quantity'], 0), \n",
    "        axis=1\n",
    "    )\n",
    ")\n",
    "\n",
    "# Lógica para los SKUs no especificados\n",
    "df_plan_fruver_colombia.loc[~df_plan_fruver_colombia['Sku Id'].isin(skus_a_procesar), 'ADJUSTED QUANTITY'] = (\n",
    "    df_plan_fruver_colombia.loc[~df_plan_fruver_colombia['Sku Id'].isin(skus_a_procesar)].apply(\n",
    "        lambda row: round(max(row['Average Daily Sales for Past 7 Days'] * 0.4, row['Purchase Quantity']), 0)\n",
    "        if row['Purchase Quantity'] < row['Average Daily Sales for Past 7 Days'] * 0.4\n",
    "        else round(row['Purchase Quantity'], 0),\n",
    "        axis=1\n",
    "    )\n",
    ")"
   ]
  },
  {
   "cell_type": "code",
   "execution_count": null,
   "id": "e08ead5f-5a8f-41f3-9683-c8cf48e2a6f2",
   "metadata": {},
   "outputs": [],
   "source": [
    "#Redondear las cantidades menores a 3\n",
    "#df_plan_fruver_colombia['ADJUSTED QUANTITY'] = df_plan_fruver_colombia['ADJUSTED QUANTITY'].apply(\n",
    "#    lambda x: 3 if x in [0, 1, 2] else x\n",
    "#)"
   ]
  },
  {
   "cell_type": "code",
   "execution_count": null,
   "id": "cb633032-1783-424e-bfb8-c7ef4f3c4e6b",
   "metadata": {},
   "outputs": [],
   "source": [
    "#Ajustar las cantidades de las tiendas especificadas y redondear\n",
    "# warehouses_to_adjust_quanity = [23]\n",
    "# products_to_adjust_quanity = [6721,4376,12942]\n",
    "# df_plan_fruver_colombia.loc[df_plan_fruver_colombia['Warehouseid'].isin(warehouses_to_adjust_quanity) & df_plan_fruver_colombia['Sku Id'].isin(products_to_adjust_quanity), 'ADJUSTED QUANTITY'] *= 0\n",
    "# df_plan_fruver_colombia['ADJUSTED QUANTITY'] = df_plan_fruver_colombia['ADJUSTED QUANTITY'].round(0)"
   ]
  },
  {
   "cell_type": "code",
   "execution_count": null,
   "id": "a7a0f949-4a79-423b-9665-fc0fae583213",
   "metadata": {},
   "outputs": [],
   "source": [
    "#Ajustar las cantidades de las tiendas especificadas y redondear\n",
    "warehouses_to_adjust_quanity = [103,106,104,109,93,2,79,90,4,49,63,66]\n",
    "products_to_adjust_quanity = [2530, 2735, 3388, 3396, 3404, 3554, 3747, 3965, 4155, 4402, 12769]\n",
    "df_plan_fruver_colombia.loc[df_plan_fruver_colombia['Warehouseid'].isin(warehouses_to_adjust_quanity) & df_plan_fruver_colombia['Sku Id'].isin(products_to_adjust_quanity), 'ADJUSTED QUANTITY'] *= 1.3\n",
    "df_plan_fruver_colombia['ADJUSTED QUANTITY'] = df_plan_fruver_colombia['ADJUSTED QUANTITY'].round(0)"
   ]
  },
  {
   "cell_type": "code",
   "execution_count": null,
   "id": "f6cd465a-94e4-4c8c-8189-f2abf6042170",
   "metadata": {
    "tags": []
   },
   "outputs": [],
   "source": [
    "#Añadir Banafrut al plan de compra con el % especificado de las cantidades, en las tiendas especificadas #MEDELLIN\n",
    "rows_to_duplicate = df_plan_fruver_colombia[(df_plan_fruver_colombia['Warehouseid'].isin([21, 29, 31, 48, 52, 68])) & (df_plan_fruver_colombia['Sku Id'].isin([3396]))]\n",
    "duplicated_rows = rows_to_duplicate.copy()\n",
    "duplicated_rows['Primary Supplier Id'] = 346\n",
    "duplicated_rows['ADJUSTED QUANTITY'] = (duplicated_rows['ADJUSTED QUANTITY'] * 0.7).round(0)\n",
    "df_plan_fruver_colombia.loc[(df_plan_fruver_colombia['Warehouseid'].isin([21, 29, 31, 48, 52, 68])) & (df_plan_fruver_colombia['Sku Id'].isin([3396])), 'ADJUSTED QUANTITY'] = (df_plan_fruver_colombia['ADJUSTED QUANTITY'] * 0.3).round(0)\n",
    "df_plan_fruver_colombia = pd.concat([df_plan_fruver_colombia, duplicated_rows], ignore_index=True)\n",
    "df_plan_fruver_colombia = df_plan_fruver_colombia.reset_index(drop=True)"
   ]
  },
  {
   "cell_type": "code",
   "execution_count": null,
   "id": "0330fab3-c992-420b-98be-8cd30a12e90d",
   "metadata": {},
   "outputs": [],
   "source": [
    "#Añadir Banafrut al plan de compra con el % especificado de las cantidade,s en las tiendas especificadas #BOGOTA\n",
    "#rows_to_duplicate = df_plan_fruver_colombia[(df_plan_fruver_colombia['Warehouseid'].isin([8, 47, 51])) & (df_plan_fruver_colombia['Sku Id'].isin([3396]))]\n",
    "#duplicated_rows = rows_to_duplicate.copy()\n",
    "#duplicated_rows['Primary Supplier Id'] = 346\n",
    "#duplicated_rows['ADJUSTED QUANTITY'] = (duplicated_rows['ADJUSTED QUANTITY'] * 0.4).round(0)\n",
    "#df_plan_fruver_colombia.loc[(df_plan_fruver_colombia['Warehouseid'].isin([8, 47, 51])) & (df_plan_fruver_colombia['Sku Id'].isin([3396])), 'ADJUSTED QUANTITY'] = (df_plan_fruver_colombia['ADJUSTED QUANTITY'] * 0.6).round(0)\n",
    "#df_plan_fruver_colombia = pd.concat([df_plan_fruver_colombia, duplicated_rows], ignore_index=True)\n",
    "#df_plan_fruver_colombia = df_plan_fruver_colombia.reset_index(drop=True)"
   ]
  },
  {
   "cell_type": "code",
   "execution_count": null,
   "id": "8540c7c4-2666-416b-95a8-f7f67b8d8f5e",
   "metadata": {},
   "outputs": [],
   "source": [
    "#Filtrar productos sustitutos y otros\n",
    "df_plan_fruver_colombia = df_plan_fruver_colombia[~df_plan_fruver_colombia['Sku Id'].isin([14941, 14942, 6620])]"
   ]
  },
  {
   "cell_type": "code",
   "execution_count": null,
   "id": "f4557ed4-0841-4629-a747-6d22781eb780",
   "metadata": {},
   "outputs": [],
   "source": [
    "#test comprar Niza directo de F9\n",
    "warehouses_to_test = [18]\n",
    "df_plan_fruver_colombia.loc[df_plan_fruver_colombia['Warehouseid'].isin(warehouses_to_test),'ADJUSTED QUANTITY'] = df_plan_fruver_colombia['Purchase Quantity (Min Val Adj.) Editable']"
   ]
  },
  {
   "cell_type": "code",
   "execution_count": null,
   "id": "e6143ed9-96d3-4a0c-9116-491bd277d42e",
   "metadata": {
    "tags": []
   },
   "outputs": [],
   "source": [
    "#Exportar el plan de compra modificado en formato csv\n",
    "fecha_actual = datetime.now().strftime(\"%d-%m-%Y\")\n",
    "nombre_archivo = f\"C:/Users/juane/Downloads/PLAN_FRUVER_COLOMBIA_{fecha_actual}.csv\"\n",
    "df_plan_fruver_colombia.to_csv(nombre_archivo, index=False)"
   ]
  },
  {
   "cell_type": "code",
   "execution_count": null,
   "id": "5b9b2446-39da-44e1-918c-edc5bc5825f3",
   "metadata": {},
   "outputs": [],
   "source": [
    "#Crear el formato de subida masiva de ordenes de compra para WMS \n",
    "df_wms_input_fruver = pd.DataFrame()\n",
    "df_wms_input_fruver['WAREHOUSE_DESTINATION'] = df_plan_fruver_colombia['Warehouseid']\n",
    "df_wms_input_fruver['SUPPLIER_ID'] = df_plan_fruver_colombia['Primary Supplier Id']\n",
    "df_wms_input_fruver['RETAIL_ID'] = df_plan_fruver_colombia['Sku Id']\n",
    "df_wms_input_fruver['QUANTITY'] = df_plan_fruver_colombia['ADJUSTED QUANTITY'].astype(int)\n",
    "df_wms_input_fruver['PLANNED_DATE'] = pd.to_datetime(datetime.now().date()) + pd.to_timedelta(df_plan_fruver_colombia['Supplier Lead Time (Days)'], unit='d')\n",
    "df_wms_input_fruver['PLANNED_DATE'] = df_wms_input_fruver['PLANNED_DATE'].dt.strftime('%d-%m-%Y')\n",
    "df_wms_input_fruver = df_wms_input_fruver.loc[df_wms_input_fruver['QUANTITY'] != 0].copy()\n",
    "df_wms_input_fruver = df_wms_input_fruver.reset_index(drop=True)"
   ]
  },
  {
   "cell_type": "code",
   "execution_count": null,
   "id": "270da861-740f-4065-879a-97f53f27b199",
   "metadata": {
    "tags": []
   },
   "outputs": [],
   "source": [
    "#Crear un formato de subida masiva exclusivo para los viernes, ya que se crean ordenes para sabado y domigo\n",
    "if datetime.now().weekday() == 4:\n",
    "    print(\"Hoy es viernes!\")\n",
    "    df_wms_input_fruver_domingo = df_wms_input_fruver[\n",
    "        (df_wms_input_fruver['WAREHOUSE_DESTINATION'].isin([8, 9, 11, 12, 14, 16, 17, 18, 19, 23, 24, 28, 33, 47, 50, 51, 58, 60, 61, 67, 70, 72, 73, 78, 110])) & \n",
    "        (df_wms_input_fruver['RETAIL_ID'].isin([2530, 2735, 3388, 3396, 3404, 3554, 3747, 3965, 4155, 4402, 12769,4603,8599,6798]))\n",
    "    ].copy()\n",
    "    df_wms_input_fruver_domingo.loc[:, 'QUANTITY'] = (df_wms_input_fruver_domingo['QUANTITY'] * 0.6).round(0)\n",
    "    df_wms_input_fruver_domingo.loc[:, 'PLANNED_DATE'] = pd.to_datetime(datetime.now().date()) + pd.to_timedelta(2, unit='d')\n",
    "    df_wms_input_fruver_domingo['PLANNED_DATE'] = pd.to_datetime(df_wms_input_fruver_domingo['PLANNED_DATE'])\n",
    "    df_wms_input_fruver_domingo['PLANNED_DATE'] = df_wms_input_fruver_domingo['PLANNED_DATE'].dt.strftime('%d-%m-%Y')\n",
    "                                    \n",
    "    df_wms_input_fruver.loc[(df_wms_input_fruver['WAREHOUSE_DESTINATION'].isin([8,9,11,12,14,16,17,18,19,23,24,28,33,47,50,51,58,60,61,67,70,72,73,78,110])) & \n",
    "                            (df_wms_input_fruver['RETAIL_ID'].isin([2530, 2735, 3388, 3396, 3404, 3554, 3747, 3965, 4155, 4402, 12769])), 'QUANTITY'] = (df_wms_input_fruver['QUANTITY'] * 0.65).round(0)\n",
    "                                    \n",
    "    nombre_archivo = f\"C:/Users/juane/Downloads/WMS_INPUT_FRUVER_DOMINGO_{fecha_actual}.csv\"\n",
    "    df_wms_input_fruver_domingo.to_csv(nombre_archivo,index=False)\n",
    "    \n",
    "    for supplier_id in df_wms_input_fruver_domingo['SUPPLIER_ID'].unique():\n",
    "        supplier_df = df_wms_input_fruver_domingo[df_wms_input_fruver_domingo['SUPPLIER_ID'] == supplier_id]\n",
    "                                    \n",
    "        file_name = f\"C:/Users/juane/Downloads/WMS_INPUT_DOMINGO_FRUVER_supplier_{supplier_id}.csv\"\n",
    "        supplier_df.to_csv(file_name, index=False)                            \n",
    "                                              "
   ]
  },
  {
   "cell_type": "code",
   "execution_count": null,
   "id": "ecff4b37-1a94-4f8d-84f7-63757bc97817",
   "metadata": {},
   "outputs": [],
   "source": [
    "#Exportar el formato de subida masiva en csv\n",
    "nombre_archivo = f\"C:/Users/juane/Downloads/WMS_INPUT_FRUVER_{fecha_actual}.csv\"\n",
    "df_wms_input_fruver.to_csv(nombre_archivo,index=False)"
   ]
  },
  {
   "cell_type": "code",
   "execution_count": null,
   "id": "a324be27-cab4-4214-8ada-7b4bd0a93a1e",
   "metadata": {},
   "outputs": [],
   "source": [
    "#Crear un formato de subida masiva de ordenes para las tiendas en Bogotá con los productos especificados unicamente\n",
    "filtered_df = df_wms_input_fruver[\n",
    "   (df_wms_input_fruver['WAREHOUSE_DESTINATION'].isin([8, 9, 11, 12, 14, 16, 17, 18, 19, 23, 24, 28, 33, 47, 50, 51, 58, 60, 61, 67, 70, 72, 73, 78, 110])) &\n",
    "    (df_wms_input_fruver['RETAIL_ID'].isin([2530, 2735, 3396, 3404, 3747]))\n",
    "]\n",
    "\n",
    "for supplier_id in filtered_df['SUPPLIER_ID'].unique():\n",
    "    supplier_df = filtered_df[filtered_df['SUPPLIER_ID'] == supplier_id]\n",
    "    \n",
    "    file_name = f\"C:/Users/juane/Downloads/WMS_INPUT_FRUVER_bogota_productos_top_{supplier_id}.csv\"\n",
    "    supplier_df.to_csv(file_name, index=False)"
   ]
  },
  {
   "cell_type": "code",
   "execution_count": null,
   "id": "225ed198-b32e-41dc-b0cc-913f88910fa2",
   "metadata": {
    "tags": []
   },
   "outputs": [],
   "source": [
    "#Crear un formato de subida masiva de ordenes para todas las tiendas y productos restantes\n",
    "filtered_out_df = df_wms_input_fruver[\n",
    "    (df_wms_input_fruver['WAREHOUSE_DESTINATION'].isin([8, 9, 11, 12, 14, 16, 17, 18, 19, 20, 23, 24, 26, 28, 33, 47, 50, 51, 58, 60, 61, 67, 70, 72, 73, 78, 110])) &\n",
    "    (df_wms_input_fruver['RETAIL_ID'].isin([2530, 2735, 3396, 3404, 3747]))\n",
    "]\n",
    "\n",
    "remaining_df = df_wms_input_fruver[~df_wms_input_fruver.index.isin(filtered_out_df.index)]\n",
    "\n",
    "for supplier_id in remaining_df['SUPPLIER_ID'].unique():\n",
    "    supplier_df = remaining_df[remaining_df['SUPPLIER_ID'] == supplier_id]\n",
    "    \n",
    "    file_name = f\"C:/Users/juane/Downloads/WMS_INPUT_FRUVER_supplier_{supplier_id}.csv\"\n",
    "    supplier_df.to_csv(file_name, index=False)"
   ]
  }
 ],
 "metadata": {
  "kernelspec": {
   "display_name": "Python 3 (ipykernel)",
   "language": "python",
   "name": "python3"
  },
  "language_info": {
   "codemirror_mode": {
    "name": "ipython",
    "version": 3
   },
   "file_extension": ".py",
   "mimetype": "text/x-python",
   "name": "python",
   "nbconvert_exporter": "python",
   "pygments_lexer": "ipython3",
   "version": "3.11.7"
  }
 },
 "nbformat": 4,
 "nbformat_minor": 5
}
