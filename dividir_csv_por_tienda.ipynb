{
 "cells": [
  {
   "cell_type": "code",
   "execution_count": 1,
   "id": "523cacdb-8f34-4798-a248-93aae6ac39f0",
   "metadata": {},
   "outputs": [],
   "source": [
    "import numpy as np\n",
    "import pandas as pd\n",
    "import snowflake.connector\n",
    "from datetime import datetime, timedelta\n",
    "import requests\n",
    "import io"
   ]
  },
  {
   "cell_type": "code",
   "execution_count": 2,
   "id": "c916110a-5b06-4d67-802a-09a4109f1200",
   "metadata": {},
   "outputs": [],
   "source": [
    "df = pd.read_csv(r\"C:\\Users\\juane\\Downloads\\WMS_INPUT_PURCHASE_PLAN_168.csv\")"
   ]
  },
  {
   "cell_type": "code",
   "execution_count": 3,
   "id": "d74a4243-5bab-4ee6-8148-ea66a0f9347a",
   "metadata": {
    "tags": []
   },
   "outputs": [],
   "source": [
    "for variable in df['WAREHOUSE_DESTINATION'].unique():\n",
    "    temp_df = df[df['WAREHOUSE_DESTINATION'] == variable]\n",
    "    file_name = f\"C:/Users/juane/Downloads/WMS_INPUT_{variable}.csv\"\n",
    "    temp_df.to_csv(file_name, index=False)"
   ]
  }
 ],
 "metadata": {
  "kernelspec": {
   "display_name": "Python 3 (ipykernel)",
   "language": "python",
   "name": "python3"
  },
  "language_info": {
   "codemirror_mode": {
    "name": "ipython",
    "version": 3
   },
   "file_extension": ".py",
   "mimetype": "text/x-python",
   "name": "python",
   "nbconvert_exporter": "python",
   "pygments_lexer": "ipython3",
   "version": "3.11.7"
  }
 },
 "nbformat": 4,
 "nbformat_minor": 5
}
