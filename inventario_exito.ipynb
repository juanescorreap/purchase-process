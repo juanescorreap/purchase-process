{
 "cells": [
  {
   "cell_type": "code",
   "execution_count": null,
   "id": "ae257158-33b9-4515-ae5a-88ece0c9fb2c",
   "metadata": {},
   "outputs": [],
   "source": [
    "juan"
   ]
  },
  {
   "cell_type": "code",
   "execution_count": null,
   "id": "344fd7d6",
   "metadata": {
    "tags": []
   },
   "outputs": [],
   "source": [
    "import numpy as np\n",
    "import pandas as pd\n",
    "import matplotlib.pyplot as plt\n",
    "import seaborn as sns\n",
    "import snowflake.connector\n",
    "import requests\n",
    "import io"
   ]
  },
  {
   "cell_type": "code",
   "execution_count": null,
   "id": "1f97b602",
   "metadata": {
    "tags": []
   },
   "outputs": [],
   "source": [
    "conn = snowflake.connector.connect(user='esteban.correa@RAPPI.COM', \n",
    "                                   authenticator='externalbrowser', \n",
    "                                   account='hg51401', \n",
    "                                   warehouse=\"RP_PERSONALUSER_WH\",\n",
    "                                   database=\"FIVETRAN\")"
   ]
  },
  {
   "cell_type": "code",
   "execution_count": null,
   "id": "300773c0",
   "metadata": {
    "tags": []
   },
   "outputs": [],
   "source": [
    "url='http://redash.rappi.com/api/queries/90464/results.csv?api_key=DEh28AiEeQ5z3f2Ppi6GITbECaSWfkBPyGxpI21D'\n",
    "urlData = requests.get(url).content\n",
    "inventario = pd.read_csv(io.StringIO(urlData.decode('utf-8')))\n",
    "inventario.head(2)"
   ]
  },
  {
   "cell_type": "code",
   "execution_count": null,
   "id": "b1024f8c",
   "metadata": {
    "tags": []
   },
   "outputs": [],
   "source": [
    "#Cambio de nombre de columnas\n",
    "inventario = inventario.rename(columns={\"CRUCE\":\"cruce\", \"WAREHOUSE_ID\":\"warehouse_id\", \"WAREHOUSE_NAME\":\"warehouse_name\", \n",
    "                                      \"STOREREFERENCEID\":\"storereferenceid\", \"EAN\":\"ean\", \"STOCK\":\"stock\"})\n",
    "inventario.head(5)"
   ]
  },
  {
   "cell_type": "code",
   "execution_count": null,
   "id": "7ba0a827",
   "metadata": {
    "tags": []
   },
   "outputs": [],
   "source": [
    "productos_exito = \"\"\"SELECT * \n",
    "FROM FIVETRAN.CPGS_TURBO_DS_PUBLIC.CO_FILL_RATE_EXITO_PRODUCTO\"\"\""
   ]
  },
  {
   "cell_type": "code",
   "execution_count": null,
   "id": "f9b7ecdf",
   "metadata": {
    "tags": []
   },
   "outputs": [],
   "source": [
    "df_plu = pd.read_sql(productos_exito, conn)"
   ]
  },
  {
   "cell_type": "code",
   "execution_count": null,
   "id": "013b315b",
   "metadata": {
    "tags": []
   },
   "outputs": [],
   "source": [
    "productos_exito = df_plu.rename(columns={\"VIVO_ID\":\"storereferenceid\", \"PLU_PADRE\":\"plu_padre\", \"PLU_HIJO\":\"plu_hijo\",\n",
    "                                                  \"Factor\":\"Factor\"})\n",
    "productos_exito.head(2)"
   ]
  },
  {
   "cell_type": "code",
   "execution_count": null,
   "id": "a08ea21a",
   "metadata": {
    "tags": []
   },
   "outputs": [],
   "source": [
    "productos_exito = productos_exito[~productos_exito['storereferenceid'].isin([429540])]"
   ]
  },
  {
   "cell_type": "code",
   "execution_count": null,
   "id": "43b199ca",
   "metadata": {
    "tags": []
   },
   "outputs": [],
   "source": [
    "#Quitando de la base por problemas en la base\n",
    "base_quitar = []\n",
    "productos_exito = productos_exito[~productos_exito['storereferenceid'].isin(base_quitar)]"
   ]
  },
  {
   "cell_type": "code",
   "execution_count": null,
   "id": "0ae4cf30",
   "metadata": {
    "tags": []
   },
   "outputs": [],
   "source": [
    "tienda = \"\"\"select f.*, w.name as warehouse_name, w.city as ciudad\n",
    "from (select r.warehouse_id as sync_wh, r.external_id as warehouseid, e.external_id as dependencia\n",
    "from fivetran.co_amysql_turbo_emergency_order_turbo_sync.warehouse_integration as r\n",
    "left join fivetran.co_amysql_turbo_emergency_order_turbo_sync.warehouse_integration as e\n",
    "on e.warehouse_id = r.warehouse_id\n",
    "where r.integration_name in ('vivo')\n",
    "and r._fivetran_deleted = 'FALSE'\n",
    "and e.integration_name in ('exito')\n",
    "and len(e.external_id) = 4\n",
    "order by r.external_id desc) as f\n",
    "left join fivetran.co_amysql_turbo_emergency_order_turbo_sync.warehouse as w\n",
    "on f.sync_wh = w.id;\"\"\""
   ]
  },
  {
   "cell_type": "code",
   "execution_count": null,
   "id": "234ae69a",
   "metadata": {
    "tags": []
   },
   "outputs": [],
   "source": [
    "tiendas = pd.read_sql(tienda, conn)\n",
    "tiendas.head(2)"
   ]
  },
  {
   "cell_type": "code",
   "execution_count": null,
   "id": "ebd4b456",
   "metadata": {
    "tags": []
   },
   "outputs": [],
   "source": [
    "tiendas = tiendas.rename(columns={\"SYNC_WH\":\"sync_wh\",\"WAREHOUSEID\":\"warehouseid\", \"DEPENDENCIA\":\"dependencia\", \n",
    "                                  \"WAREHOUSE_NAME\":\"tienda\", \"CIUDAD\":\"ciudad\"})\n",
    "tiendas.head(2)"
   ]
  },
  {
   "cell_type": "code",
   "execution_count": null,
   "id": "90bc3c93",
   "metadata": {
    "tags": []
   },
   "outputs": [],
   "source": [
    "tiendas = tiendas.loc[:,[\"warehouseid\", \"dependencia\"]]"
   ]
  },
  {
   "cell_type": "code",
   "execution_count": null,
   "id": "57c6aa7a",
   "metadata": {
    "tags": []
   },
   "outputs": [],
   "source": [
    "tiendas"
   ]
  },
  {
   "cell_type": "code",
   "execution_count": null,
   "id": "925eca79",
   "metadata": {
    "tags": []
   },
   "outputs": [],
   "source": [
    "productos_exito = productos_exito.astype({\"storereferenceid\":\"int\"})  \n",
    "stock_plu = pd.merge(left=inventario, right=productos_exito, how='inner', left_on=\"storereferenceid\", right_on=\"storereferenceid\")\n",
    "stock_plu.head(2)"
   ]
  },
  {
   "cell_type": "code",
   "execution_count": null,
   "id": "2701b739",
   "metadata": {
    "tags": []
   },
   "outputs": [],
   "source": [
    "tiendas.info()"
   ]
  },
  {
   "cell_type": "code",
   "execution_count": null,
   "id": "1a1973ec",
   "metadata": {
    "tags": []
   },
   "outputs": [],
   "source": [
    "tiendas['warehouseid'] = tiendas['warehouseid'].astype(int)\n",
    "stock_plu_tienda = pd.merge(left=stock_plu, right=tiendas, how='inner', left_on=\"warehouse_id\", right_on=\"warehouseid\")\n",
    "stock_plu_tienda.head(2)"
   ]
  },
  {
   "cell_type": "code",
   "execution_count": null,
   "id": "9c0ca742",
   "metadata": {
    "tags": []
   },
   "outputs": [],
   "source": [
    "len(stock_plu_tienda)"
   ]
  },
  {
   "cell_type": "code",
   "execution_count": null,
   "id": "97f0c414",
   "metadata": {
    "tags": []
   },
   "outputs": [],
   "source": [
    "stock_plu_tienda.info()"
   ]
  },
  {
   "cell_type": "code",
   "execution_count": null,
   "id": "d01a6f6c",
   "metadata": {
    "tags": []
   },
   "outputs": [],
   "source": [
    "stock_plu_tienda.head(5)"
   ]
  },
  {
   "cell_type": "code",
   "execution_count": null,
   "id": "4aef873b",
   "metadata": {
    "tags": []
   },
   "outputs": [],
   "source": [
    "stock_plu_tienda.sort_values(by = [\"FACTOR\"])"
   ]
  },
  {
   "cell_type": "code",
   "execution_count": null,
   "id": "ec847212",
   "metadata": {
    "tags": []
   },
   "outputs": [],
   "source": [
    "#Cambiar tipo de dato de factor\n",
    "stock_plu_tienda[\"FACTOR\"]=stock_plu_tienda[\"FACTOR\"].str.replace(\",\",\".\")\n",
    "stock_plu_tienda = stock_plu_tienda.astype({\"FACTOR\":\"float\"})"
   ]
  },
  {
   "cell_type": "code",
   "execution_count": null,
   "id": "f23bce80",
   "metadata": {
    "tags": []
   },
   "outputs": [],
   "source": [
    "#Crear nueva columna que divida el factor\n",
    "stock_plu_tienda[\"stock_final\"] = stock_plu_tienda[\"stock\"]/stock_plu_tienda[\"FACTOR\"]\n",
    "stock_plu_tienda.head(2)"
   ]
  },
  {
   "cell_type": "code",
   "execution_count": null,
   "id": "7a04dddf",
   "metadata": {
    "tags": []
   },
   "outputs": [],
   "source": [
    "#Creación del archivo para manejo interno\n",
    "stock_plu_tienda.to_excel(\"Informacion_stock.xlsx\", index=False, sheet_name=\"Stock\")"
   ]
  },
  {
   "cell_type": "code",
   "execution_count": null,
   "id": "f2010062-25d9-46b8-9530-ebc370e86815",
   "metadata": {
    "tags": []
   },
   "outputs": [],
   "source": [
    "stock_plu_tienda[stock_plu_tienda.plu_padre.isin(['3128771'])&stock_plu_tienda.dependencia.isin(['4842'])]"
   ]
  },
  {
   "cell_type": "code",
   "execution_count": null,
   "id": "0f38b0da",
   "metadata": {
    "tags": []
   },
   "outputs": [],
   "source": [
    "stock_plu_tienda[stock_plu_tienda.plu_padre.isin(['3128771'])]"
   ]
  },
  {
   "cell_type": "code",
   "execution_count": null,
   "id": "6a5699ce",
   "metadata": {
    "tags": []
   },
   "outputs": [],
   "source": [
    "stock_plu_tienda_2 = stock_plu_tienda.loc[:,[\"warehouseid\", \"warehouse_name\", \"plu_padre\", \n",
    "                                           \"dependencia\", \"stock_final\"]]\n",
    "stock_plu_tienda_2.head(2)"
   ]
  },
  {
   "cell_type": "code",
   "execution_count": null,
   "id": "570cfec3",
   "metadata": {
    "tags": []
   },
   "outputs": [],
   "source": [
    "#Agrupar información por plu padre\n",
    "stock_plu_tienda_final = stock_plu_tienda_2.groupby(by=[\"warehouseid\", \"warehouse_name\", \"dependencia\", \n",
    "                                                      \"plu_padre\"]).sum() \n",
    "stock_plu_tienda_final.head(2)"
   ]
  },
  {
   "cell_type": "code",
   "execution_count": null,
   "id": "a552c4f8",
   "metadata": {
    "tags": []
   },
   "outputs": [],
   "source": [
    "stock_plu_tienda_final.reset_index(inplace=True)\n",
    "stock_plu_tienda_final.head(2)"
   ]
  },
  {
   "cell_type": "code",
   "execution_count": null,
   "id": "1d3a2d0b",
   "metadata": {
    "tags": []
   },
   "outputs": [],
   "source": [
    "stock_plu_tienda_final.to_excel(\"Inventario_exito.xlsx\", index=False, sheet_name='Inventario')"
   ]
  },
  {
   "cell_type": "code",
   "execution_count": null,
   "id": "c052b2b3",
   "metadata": {
    "tags": []
   },
   "outputs": [],
   "source": [
    "stock_plu_tienda_final.head(5)"
   ]
  },
  {
   "cell_type": "code",
   "execution_count": null,
   "id": "ce753480",
   "metadata": {
    "tags": []
   },
   "outputs": [],
   "source": [
    "stock_plu_tienda_final[stock_plu_tienda_final.plu_padre.isin(['3128771'])&stock_plu_tienda_final.dependencia.isin(['4842'])]"
   ]
  },
  {
   "cell_type": "code",
   "execution_count": null,
   "id": "df1b4d47-5bfc-49a3-b90c-d86f5198b58e",
   "metadata": {
    "tags": []
   },
   "outputs": [],
   "source": [
    "stock_plu_tienda_final[stock_plu_tienda_final.warehouseid.isin(['321', '322'])]"
   ]
  },
  {
   "cell_type": "code",
   "execution_count": null,
   "id": "02094a00",
   "metadata": {
    "tags": []
   },
   "outputs": [],
   "source": [
    "stock_plu_tienda_final['stock_final'].sum(axis=0)"
   ]
  },
  {
   "cell_type": "code",
   "execution_count": null,
   "id": "cfd93744",
   "metadata": {
    "tags": []
   },
   "outputs": [],
   "source": [
    "import smtplib, getpass, os\n",
    "from email.mime.multipart import MIMEMultipart\n",
    "from email.mime.text import MIMEText\n",
    "from email.mime.base import MIMEBase\n",
    "from datetime import datetime\n",
    "from email import encoders\n",
    "\n",
    "user = \"\"\"esteban.correa@rappi.com\"\"\"\n",
    "password = \"\"\"yexw ulvz yakj ggpc\"\"\"\n",
    "\n",
    "fecha = datetime.today().strftime('%Y-%m-%d')\n",
    "\n",
    "suma_productos = \"{:.2f}\".format(stock_plu_tienda_final['stock_final'].sum())\n",
    "\n",
    "#Ajustes del mail\n",
    "remitente = \"\"\"Rappi Turbo Supply\"\"\"\n",
    "destinatario = ['johan.mayorga@rappi.com','santiago.martin@rappi.com', 'donny.maury@rappi.com','marcel.kempe@rappi.com', 'olgonzalez@grupo-exito.com','daniel.montana@rappi.com', 'gmejia@grupo-exito.com', 'evenegas@grupo-exito.com', 'cesar.salcedo@rappi.com', 'dvillamila@grupo-exito.com', 'icbedoya@grupo-exito.com']\n",
    "asunto = f\"\"\"Inventario EXITO {fecha}, suma productos: {suma_productos}\"\"\"\n",
    "mensaje = \"\"\"Hola team, <br><br> Enviamos inventario para el día de hoy.<br><br> ¡Gracias!\"\"\"\n",
    "\n",
    "#Host y puerto SMTP de Gmail\n",
    "server = smtplib.SMTP('smtp.gmail.com', 587)\n",
    "\n",
    "#protocolo de cifrado de datos\n",
    "server.starttls()\n",
    "\n",
    "#Credenciales\n",
    "server.login(user, password)\n",
    "\n",
    "#Muestra la depuración de la operación de envío 1=true\n",
    "server.set_debuglevel(1)\n",
    "\n",
    "msg = MIMEMultipart()\n",
    "msg['Subject'] = asunto\n",
    "msg['From'] = remitente\n",
    "msg['To'] = \", \".join(destinatario)\n",
    "\n",
    "\n",
    "mensaje = MIMEText(mensaje, 'html')\n",
    "msg.attach(mensaje)\n",
    "\n",
    "part = MIMEBase('application', \"octet-stream\")\n",
    "part.set_payload(open(\"Inventario_exito.xlsx\", \"rb\").read())\n",
    "encoders.encode_base64(part)\n",
    "\n",
    "part.add_header('Content-Disposition', 'attachment; filename=\"Inventario_exito.xlsx\"')\n",
    "msg.attach(part)\n",
    "\n",
    "#Enviar mail\n",
    "server.sendmail(remitente, destinatario, msg.as_string())\n",
    "\n",
    "#Cerrar la conexión\n",
    "server.quit()"
   ]
  },
  {
   "cell_type": "code",
   "execution_count": null,
   "id": "d29d7449",
   "metadata": {
    "tags": []
   },
   "outputs": [],
   "source": [
    "user = \"\"\"esteban.correa@rappi.com\"\"\"\n",
    "password = \"\"\"yexw ulvz yakj ggpc\"\"\"\n",
    "\n",
    "fecha = datetime.today().strftime('%Y-%m-%d')\n",
    "\n",
    "#Ajustes del mail\n",
    "remitente1 = \"\"\"Rappi Turbo Supply\"\"\"\n",
    "destinatario1 = ['johan.mayorga@rappi.com','santiago.martin@rappi.com', 'donny.maury@rappi.com','marcel.kempe@rappi.com', 'olgonzalez@grupo-exito.com', 'daniel.montana@rappi.com', 'gmejia@grupo-exito.com', 'evenegas@grupo-exito.com', 'cesar.salcedo@rappi.com', 'dvillamila@grupo-exito.com', 'icbedoya@grupo-exito.com']\n",
    "asunto1 = f\"\"\"Stock Turbo {fecha}\"\"\"\n",
    "mensaje1 = f\"\"\"Hola, <br><br> Adjuntamos stock a la fecha {fecha} para cada vivoid.<br><br> ¡Gracias!\"\"\"\n",
    "\n",
    "#Host y puerto SMTP de Gmail\n",
    "server1 = smtplib.SMTP('smtp.gmail.com', 587)\n",
    "\n",
    "#protocolo de cifrado de datos\n",
    "server1.starttls()\n",
    "\n",
    "#Credenciales\n",
    "server1.login(user, password)\n",
    "\n",
    "#Muestra la depuración de la operación de envío 1=true\n",
    "server1.set_debuglevel(1)\n",
    "\n",
    "msg1 = MIMEMultipart()\n",
    "msg1['Subject'] = asunto1\n",
    "msg1['From'] = remitente1\n",
    "msg1['To'] = \", \".join(destinatario1)\n",
    "\n",
    "\n",
    "mensaje1 = MIMEText(mensaje1, 'html')\n",
    "msg1.attach(mensaje1)\n",
    "\n",
    "part1 = MIMEBase('application', \"octet-stream\")\n",
    "part1.set_payload(open(\"Informacion_stock.xlsx\", \"rb\").read())\n",
    "encoders.encode_base64(part1)\n",
    "\n",
    "part1.add_header('Content-Disposition', 'attachment; filename=\"Informacion_stock.xlsx\"')\n",
    "msg1.attach(part1)\n",
    "\n",
    "#Enviar mail\n",
    "server1.sendmail(remitente1, destinatario1, msg1.as_string())\n",
    "\n",
    "#Cerrar la conexión\n",
    "server1.quit()"
   ]
  },
  {
   "cell_type": "code",
   "execution_count": null,
   "id": "623db5f9",
   "metadata": {
    "tags": []
   },
   "outputs": [],
   "source": [
    "conn.close()"
   ]
  }
 ],
 "metadata": {
  "kernelspec": {
   "display_name": "Python 3 (ipykernel)",
   "language": "python",
   "name": "python3"
  },
  "language_info": {
   "codemirror_mode": {
    "name": "ipython",
    "version": 3
   },
   "file_extension": ".py",
   "mimetype": "text/x-python",
   "name": "python",
   "nbconvert_exporter": "python",
   "pygments_lexer": "ipython3",
   "version": "3.11.7"
  }
 },
 "nbformat": 4,
 "nbformat_minor": 5
}
