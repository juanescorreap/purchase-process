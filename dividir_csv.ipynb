{
 "cells": [
  {
   "cell_type": "code",
   "execution_count": null,
   "id": "85599913-df3e-49e7-9e1e-e53dcd970610",
   "metadata": {
    "tags": []
   },
   "outputs": [],
   "source": [
    "import pandas as pd\n",
    "import os\n",
    "\n",
    "def split_csv(input_file, lines_per_file, output_folder, file_prefix, header_rows):\n",
    "    if not os.path.exists(output_folder):\n",
    "        os.makedirs(output_folder)\n",
    "    \n",
    "    data = pd.read_csv(input_file, header=None)\n",
    "    \n",
    "    header = data.iloc[:header_rows]\n",
    "    data = data.iloc[header_rows:].reset_index(drop=True)\n",
    "    \n",
    "    num_files = len(data) // lines_per_file + (1 if len(data) % lines_per_file != 0 else 0)\n",
    "    \n",
    "    for i in range(num_files):\n",
    "        start = i * lines_per_file\n",
    "        end = start + lines_per_file\n",
    "        data_subset = data[start:end]\n",
    "        \n",
    "        output_data = pd.concat([header, data_subset], ignore_index=True)\n",
    "        \n",
    "        output_file = os.path.join(output_folder, f\"{file_prefix}_part_{i+1}.csv\")\n",
    "        output_data.to_csv(output_file, index=False, header=False)\n",
    "        print(f\"Archivo creado: {output_file}\")\n",
    "\n",
    "input_file = r\"C:\\Users\\juane\\Downloads\\ROUTE_COST_MOQ_COLOMBIA.csv\"          # Nombre del archivo CSV a dividir\n",
    "lines_per_file = 10000             # Número de líneas por archivo\n",
    "output_folder = \"ROUTE_COST_MOQ_COLOMBIA\"     # Carpeta de destino para los archivos\n",
    "file_prefix = \"ROUTE_COST_MOQ_COLOMBIA_\" # Prefijo para los archivos subdivididos\n",
    "header_rows = 2 # Número de filas de encabezado\n",
    "\n",
    "split_csv(input_file, lines_per_file, output_folder, file_prefix, header_rows)"
   ]
  }
 ],
 "metadata": {
  "kernelspec": {
   "display_name": "Python 3 (ipykernel)",
   "language": "python",
   "name": "python3"
  },
  "language_info": {
   "codemirror_mode": {
    "name": "ipython",
    "version": 3
   },
   "file_extension": ".py",
   "mimetype": "text/x-python",
   "name": "python",
   "nbconvert_exporter": "python",
   "pygments_lexer": "ipython3",
   "version": "3.11.7"
  }
 },
 "nbformat": 4,
 "nbformat_minor": 5
}
