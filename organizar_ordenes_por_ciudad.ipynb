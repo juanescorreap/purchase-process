{
 "cells": [
  {
   "cell_type": "code",
   "execution_count": null,
   "id": "caadf209-de39-4d4b-857d-d1359e30eb8c",
   "metadata": {
    "tags": []
   },
   "outputs": [],
   "source": [
    "import os\n",
    "import zipfile\n",
    "import shutil\n",
    "import csv\n",
<<<<<<< Updated upstream
    "import unicodedata\n",
=======
    "import re\n",
    "\n",
    "# Función para limpiar nombres de carpetas/archivos\n",
    "def limpiar_nombre(nombre):\n",
    "    return re.sub(r'[<>:\"/\\\\|?*]', '', nombre).strip()\n",
>>>>>>> Stashed changes
    "\n",
    "# Función para limpiar nombres de carpetas y archivos\n",
    "def limpiar_nombre(texto):\n",
    "    return unicodedata.normalize('NFKD', texto).encode('ASCII', 'ignore').decode('utf-8').strip().replace(\"/\", \"-\").replace(\"\\\\\", \"-\")\n",
    "\n",
    "# Rutas\n",
    "zip_path = 'C:/Users/juane/Downloads/pdfs.zip'\n",
<<<<<<< Updated upstream
    "output_folder = 'C:/Users/juane/Downloads/SAMPLING_ORDENADO'\n",
    "csv_path = \"C:/Users/juane/Downloads/Automatizacion_Sampling_(tecnologias_Rappi)_2025_04_15.csv\"\n",
    "\n",
    "# Paso 1: Descomprimir ZIP\n",
    "with zipfile.ZipFile(zip_path, 'r') as zip_ref:\n",
    "    zip_ref.extractall(output_folder)\n",
=======
    "output_folder = 'C:/Users/juane/Downloads/SAMPLING'\n",
    "\n",
    "# Archivo CSV con la información de Ciudad, Producto y Tienda\n",
    "csv_path = \"C:/Users/juane/Downloads/Automatizacion_Sampling_(tecnologias_Rappi)_2025_03_11.csv\"\n",
    "\n",
    "# Paso 1: Descomprimir la carpeta ZIP si existe\n",
    "if os.path.exists(zip_path):\n",
    "    with zipfile.ZipFile(zip_path, 'r') as zip_ref:\n",
    "        zip_ref.extractall(output_folder)\n",
    "else:\n",
    "    print(f\"Error: No se encontró el archivo ZIP en {zip_path}\")\n",
    "    exit()\n",
>>>>>>> Stashed changes
    "\n",
    "# Paso 2: Leer CSV y construir diccionario\n",
    "orders_info = {}\n",
<<<<<<< Updated upstream
    "with open(csv_path, mode='r', encoding='utf-8') as file:\n",
    "    reader = csv.DictReader(file)\n",
    "    for row in reader:\n",
    "        orders_info[row['order_id']] = row\n",
=======
    "if os.path.exists(csv_path):\n",
    "    with open(csv_path, mode='r', encoding='utf-8') as file:\n",
    "        reader = csv.DictReader(file)\n",
    "        for row in reader:\n",
    "            orders_info[row['order_id']] = row\n",
    "else:\n",
    "    print(f\"Error: No se encontró el archivo CSV en {csv_path}\")\n",
    "    exit()\n",
>>>>>>> Stashed changes
    "\n",
    "# Paso 3: Reorganizar archivos\n",
    "for root, dirs, files in os.walk(output_folder):\n",
    "    for file in files:\n",
    "        if file.startswith('PO-'):\n",
    "            order_id = file[3:].split('.')[0]  # Quita el \"PO-\" y la extensión\n",
    "            if order_id in orders_info:\n",
    "                info = orders_info[order_id]\n",
<<<<<<< Updated upstream
    "                city = limpiar_nombre(info['city'])\n",
    "                product = limpiar_nombre(info['product_name'])\n",
    "                store = limpiar_nombre(info['wh_name'])\n",
    "\n",
    "                new_dir = os.path.join(output_folder, city, product)\n",
    "                os.makedirs(new_dir, exist_ok=True)\n",
    "\n",
    "                old_path = os.path.join(root, file)\n",
    "                new_path = os.path.join(new_dir, store + os.path.splitext(file)[1])\n",
    "                try:\n",
    "                    shutil.move(old_path, new_path)\n",
    "                except Exception as e:\n",
    "                    print(f\"❌ Error al mover {old_path} -> {new_path}: {e}\")\n",
    "            else:\n",
    "                print(f\"⚠️  order_id {order_id} no encontrado en CSV\")\n",
    "\n",
    "# Paso 4: Eliminar archivos PO- en la raíz\n",
=======
    "                \n",
    "                # Limpiar nombres de carpetas y archivos\n",
    "                city = limpiar_nombre(info['city'])\n",
    "                product = limpiar_nombre(info['product_name'])\n",
    "                store = limpiar_nombre(info['wh_name'])\n",
    "                \n",
    "                # Crear la nueva estructura de carpetas\n",
    "                new_dir = os.path.join(output_folder, city, product)\n",
    "                os.makedirs(new_dir, exist_ok=True)\n",
    "                \n",
    "                # Verificar que el archivo de origen existe\n",
    "                old_path = os.path.join(root, file)\n",
    "                if not os.path.exists(old_path):\n",
    "                    print(f\"Advertencia: El archivo {old_path} no existe, saltando...\")\n",
    "                    continue\n",
    "                \n",
    "                # Generar la nueva ruta y mover el archivo\n",
    "                new_path = os.path.join(new_dir, store + os.path.splitext(file)[1])\n",
    "                \n",
    "                try:\n",
    "                    shutil.move(old_path, new_path)\n",
    "                    print(f\"Movido: {old_path} -> {new_path}\")\n",
    "                except Exception as e:\n",
    "                    print(f\"Error moviendo {old_path} -> {new_path}: {e}\")\n",
    "\n",
    "# Paso 4: Eliminar archivos PO- del directorio raíz si existen\n",
>>>>>>> Stashed changes
    "for file in os.listdir(output_folder):\n",
    "    file_path = os.path.join(output_folder, file)\n",
    "    if os.path.isfile(file_path) and file.startswith('PO-'):\n",
    "        try:\n",
    "            os.remove(file_path)\n",
    "            print(f\"Eliminado: {file_path}\")\n",
    "        except Exception as e:\n",
    "            print(f\"Error eliminando {file_path}: {e}\")\n"
   ]
  }
 ],
 "metadata": {
  "kernelspec": {
   "display_name": "Python 3 (ipykernel)",
   "language": "python",
   "name": "python3"
  },
  "language_info": {
   "codemirror_mode": {
    "name": "ipython",
    "version": 3
   },
   "file_extension": ".py",
   "mimetype": "text/x-python",
   "name": "python",
   "nbconvert_exporter": "python",
   "pygments_lexer": "ipython3",
   "version": "3.11.7"
  }
 },
 "nbformat": 4,
 "nbformat_minor": 5
}
