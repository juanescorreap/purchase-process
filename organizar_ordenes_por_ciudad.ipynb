{
 "cells": [
  {
   "cell_type": "code",
   "execution_count": 2,
   "id": "caadf209-de39-4d4b-857d-d1359e30eb8c",
   "metadata": {
    "tags": []
   },
   "outputs": [
    {
     "ename": "FileNotFoundError",
     "evalue": "[Errno 2] No such file or directory: 'C:/Users/juane/Downloads/SAMPLING_ORDENADO\\\\BogotC!Exito\\\\Tarjetas Spotify \\\\San Patricio.pdf'",
     "output_type": "error",
     "traceback": [
      "\u001b[1;31m---------------------------------------------------------------------------\u001b[0m",
      "\u001b[1;31mFileNotFoundError\u001b[0m                         Traceback (most recent call last)",
      "File \u001b[1;32m~\\anaconda3\\Lib\\shutil.py:825\u001b[0m, in \u001b[0;36mmove\u001b[1;34m(src, dst, copy_function)\u001b[0m\n\u001b[0;32m    824\u001b[0m \u001b[38;5;28;01mtry\u001b[39;00m:\n\u001b[1;32m--> 825\u001b[0m     os\u001b[38;5;241m.\u001b[39mrename(src, real_dst)\n\u001b[0;32m    826\u001b[0m \u001b[38;5;28;01mexcept\u001b[39;00m \u001b[38;5;167;01mOSError\u001b[39;00m:\n",
      "\u001b[1;31mFileNotFoundError\u001b[0m: [WinError 3] El sistema no puede encontrar la ruta especificada: 'C:/Users/juane/Downloads/SAMPLING_ORDENADO\\\\PO-206766.pdf' -> 'C:/Users/juane/Downloads/SAMPLING_ORDENADO\\\\BogotC!Exito\\\\Tarjetas Spotify \\\\San Patricio.pdf'",
      "\nDuring handling of the above exception, another exception occurred:\n",
      "\u001b[1;31mFileNotFoundError\u001b[0m                         Traceback (most recent call last)",
      "Cell \u001b[1;32mIn[2], line 42\u001b[0m\n\u001b[0;32m     40\u001b[0m                 old_path \u001b[38;5;241m=\u001b[39m os\u001b[38;5;241m.\u001b[39mpath\u001b[38;5;241m.\u001b[39mjoin(root, file)\n\u001b[0;32m     41\u001b[0m                 new_path \u001b[38;5;241m=\u001b[39m os\u001b[38;5;241m.\u001b[39mpath\u001b[38;5;241m.\u001b[39mjoin(new_dir, store \u001b[38;5;241m+\u001b[39m os\u001b[38;5;241m.\u001b[39mpath\u001b[38;5;241m.\u001b[39msplitext(file)[\u001b[38;5;241m1\u001b[39m])  \u001b[38;5;66;03m# Cambia el nombre del archivo por el de la tienda\u001b[39;00m\n\u001b[1;32m---> 42\u001b[0m                 shutil\u001b[38;5;241m.\u001b[39mmove(old_path, new_path)\n\u001b[0;32m     44\u001b[0m \u001b[38;5;66;03m# Paso 4: Eliminar archivos PO- del directorio raíz\u001b[39;00m\n\u001b[0;32m     45\u001b[0m \u001b[38;5;28;01mfor\u001b[39;00m file \u001b[38;5;129;01min\u001b[39;00m os\u001b[38;5;241m.\u001b[39mlistdir(output_folder):\n",
      "File \u001b[1;32m~\\anaconda3\\Lib\\shutil.py:845\u001b[0m, in \u001b[0;36mmove\u001b[1;34m(src, dst, copy_function)\u001b[0m\n\u001b[0;32m    843\u001b[0m         rmtree(src)\n\u001b[0;32m    844\u001b[0m     \u001b[38;5;28;01melse\u001b[39;00m:\n\u001b[1;32m--> 845\u001b[0m         copy_function(src, real_dst)\n\u001b[0;32m    846\u001b[0m         os\u001b[38;5;241m.\u001b[39munlink(src)\n\u001b[0;32m    847\u001b[0m \u001b[38;5;28;01mreturn\u001b[39;00m real_dst\n",
      "File \u001b[1;32m~\\anaconda3\\Lib\\shutil.py:436\u001b[0m, in \u001b[0;36mcopy2\u001b[1;34m(src, dst, follow_symlinks)\u001b[0m\n\u001b[0;32m    434\u001b[0m \u001b[38;5;28;01mif\u001b[39;00m os\u001b[38;5;241m.\u001b[39mpath\u001b[38;5;241m.\u001b[39misdir(dst):\n\u001b[0;32m    435\u001b[0m     dst \u001b[38;5;241m=\u001b[39m os\u001b[38;5;241m.\u001b[39mpath\u001b[38;5;241m.\u001b[39mjoin(dst, os\u001b[38;5;241m.\u001b[39mpath\u001b[38;5;241m.\u001b[39mbasename(src))\n\u001b[1;32m--> 436\u001b[0m copyfile(src, dst, follow_symlinks\u001b[38;5;241m=\u001b[39mfollow_symlinks)\n\u001b[0;32m    437\u001b[0m copystat(src, dst, follow_symlinks\u001b[38;5;241m=\u001b[39mfollow_symlinks)\n\u001b[0;32m    438\u001b[0m \u001b[38;5;28;01mreturn\u001b[39;00m dst\n",
      "File \u001b[1;32m~\\anaconda3\\Lib\\shutil.py:258\u001b[0m, in \u001b[0;36mcopyfile\u001b[1;34m(src, dst, follow_symlinks)\u001b[0m\n\u001b[0;32m    256\u001b[0m \u001b[38;5;28;01mwith\u001b[39;00m \u001b[38;5;28mopen\u001b[39m(src, \u001b[38;5;124m'\u001b[39m\u001b[38;5;124mrb\u001b[39m\u001b[38;5;124m'\u001b[39m) \u001b[38;5;28;01mas\u001b[39;00m fsrc:\n\u001b[0;32m    257\u001b[0m     \u001b[38;5;28;01mtry\u001b[39;00m:\n\u001b[1;32m--> 258\u001b[0m         \u001b[38;5;28;01mwith\u001b[39;00m \u001b[38;5;28mopen\u001b[39m(dst, \u001b[38;5;124m'\u001b[39m\u001b[38;5;124mwb\u001b[39m\u001b[38;5;124m'\u001b[39m) \u001b[38;5;28;01mas\u001b[39;00m fdst:\n\u001b[0;32m    259\u001b[0m             \u001b[38;5;66;03m# macOS\u001b[39;00m\n\u001b[0;32m    260\u001b[0m             \u001b[38;5;28;01mif\u001b[39;00m _HAS_FCOPYFILE:\n\u001b[0;32m    261\u001b[0m                 \u001b[38;5;28;01mtry\u001b[39;00m:\n",
      "\u001b[1;31mFileNotFoundError\u001b[0m: [Errno 2] No such file or directory: 'C:/Users/juane/Downloads/SAMPLING_ORDENADO\\\\BogotC!Exito\\\\Tarjetas Spotify \\\\San Patricio.pdf'"
     ]
    }
   ],
   "source": [
    "import os\n",
    "import zipfile\n",
    "import shutil\n",
    "import csv\n",
    "import re\n",
    "\n",
    "# Función para limpiar nombres de carpetas y archivos\n",
    "def clean_name(name):\n",
    "    return re.sub(r'[<>:\"/\\\\|?*!]', '', name).strip()\n",
    "\n",
    "# Ruta del archivo ZIP y la carpeta de salida\n",
    "zip_path = 'C:/Users/juane/Downloads/pdfs.zip'\n",
    "output_folder = 'C:/Users/juane/Downloads/SAMPLING_ORDENADO'\n",
    "\n",
    "# Archivo CSV con la información de Ciudad, Producto y Tienda\n",
    "csv_path = \"C:/Users/juane/Downloads/Automatizacion_Sampling_(tecnologias_Rappi)_2025_05_07.csv\"\n",
    "\n",
    "# Paso 1: Descomprimir la carpeta ZIP\n",
    "with zipfile.ZipFile(zip_path, 'r') as zip_ref:\n",
    "    zip_ref.extractall(output_folder)\n",
    "\n",
    "# Paso 2: Leer el archivo CSV para obtener la distribución Ciudad/Producto/Tienda\n",
    "orders_info = {}\n",
    "with open(csv_path, mode='r', encoding='utf-8-sig') as file:  # Usa utf-8-sig por si hay BOM\n",
    "    reader = csv.DictReader(file)\n",
    "    for row in reader:\n",
    "        orders_info[row['order_id']] = row\n",
    "\n",
    "# Paso 3: Reorganizar los archivos según la distribución\n",
    "for root, dirs, files in os.walk(output_folder):\n",
    "    for file in files:\n",
    "        if file.startswith('PO-'):\n",
    "            order_id = file[3:].split('.')[0]  # Extrae el order_id del nombre del archivo\n",
    "            if order_id in orders_info:\n",
    "                info = orders_info[order_id]\n",
    "                city = clean_name(info['city'])\n",
    "                product = clean_name(info['product_name'])\n",
    "                store = clean_name(info['wh_name'])\n",
    "\n",
    "                # Crear la nueva estructura de carpetas\n",
    "                new_dir = os.path.join(output_folder, city, product)\n",
    "                os.makedirs(new_dir, exist_ok=True)\n",
    "\n",
    "                # Mover el archivo a la nueva ubicación\n",
    "                old_path = os.path.join(root, file)\n",
    "                new_path = os.path.join(new_dir, store + os.path.splitext(file)[1])\n",
    "\n",
    "                os.makedirs(os.path.dirname(new_path), exist_ok=True)  # Asegura que existe el path\n",
    "                shutil.move(old_path, new_path)\n",
    "\n",
    "# Paso 4: Eliminar archivos PO- del directorio raíz\n",
    "for file in os.listdir(output_folder):\n",
    "    file_path = os.path.join(output_folder, file)\n",
    "    if os.path.isfile(file_path) and file.startswith('PO-'):\n",
    "        os.remove(file_path)\n"
   ]
  }
 ],
 "metadata": {
  "kernelspec": {
   "display_name": "Python 3 (ipykernel)",
   "language": "python",
   "name": "python3"
  },
  "language_info": {
   "codemirror_mode": {
    "name": "ipython",
    "version": 3
   },
   "file_extension": ".py",
   "mimetype": "text/x-python",
   "name": "python",
   "nbconvert_exporter": "python",
   "pygments_lexer": "ipython3",
   "version": "3.11.7"
  }
 },
 "nbformat": 4,
 "nbformat_minor": 5
}
