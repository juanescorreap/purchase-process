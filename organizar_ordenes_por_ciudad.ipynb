{
 "cells": [
  {
   "cell_type": "code",
   "execution_count": null,
   "id": "caadf209-de39-4d4b-857d-d1359e30eb8c",
   "metadata": {
    "tags": []
   },
   "outputs": [],
   "source": [
    "import os\n",
    "import zipfile\n",
    "import shutil\n",
    "import csv\n",
    "\n",
    "# Ruta del archivo ZIP y la carpeta de salida\n",
    "zip_path = 'C:/Users/esteban.correa/Downloads/pdfs.zip'\n",
    "output_folder = 'C:/Users/esteban.correa/Downloads/SAMPLING_ORDENADO'\n",
    "\n",
    "# Archivo CSV con la información de Ciudad, Producto y Tienda\n",
    "csv_path = \"C:/Users/esteban.correa/Downloads/Automatizacion_Sampling_2025_03_12.csv\"\n",
    "\n",
    "# Paso 1: Descomprimir la carpeta ZIP\n",
    "with zipfile.ZipFile(zip_path, 'r') as zip_ref:\n",
    "    zip_ref.extractall(output_folder)\n",
    "\n",
    "# Paso 2: Leer el archivo CSV para obtener la distribución Ciudad/Producto/Tienda\n",
    "orders_info = {}\n",
    "with open(csv_path, mode='r') as file:\n",
    "    reader = csv.DictReader(file)\n",
    "    for row in reader:\n",
    "        orders_info[row['order_id']] = row\n",
    "\n",
    "# Paso 3: Reorganizar los archivos según la distribución\n",
    "for root, dirs, files in os.walk(output_folder):\n",
    "    for file in files:\n",
    "        if file.startswith('PO-'):\n",
    "            order_id = file[3:].split('.')[0]  # Extrae el order_id del nombre del archivo\n",
    "            if order_id in orders_info:\n",
    "                info = orders_info[order_id]\n",
    "                city = info['city']\n",
    "                product = info['product_name']\n",
    "                store = info['wh_name']\n",
    "                \n",
    "                # Crear la nueva estructura de carpetas\n",
    "                new_dir = os.path.join(output_folder, city, product)\n",
    "                os.makedirs(new_dir, exist_ok=True)\n",
    "                \n",
    "                # Mover el archivo a la nueva ubicación\n",
    "                old_path = os.path.join(root, file)\n",
    "                new_path = os.path.join(new_dir, store + os.path.splitext(file)[1])  # Cambia el nombre del archivo por el de la tienda\n",
    "                shutil.move(old_path, new_path)\n",
    "\n",
    "# Paso 4: Eliminar archivos PO- del directorio raíz\n",
    "for file in os.listdir(output_folder):\n",
    "    file_path = os.path.join(output_folder, file)\n",
    "    if os.path.isfile(file_path) and file.startswith('PO-'):\n",
    "        os.remove(file_path)"
   ]
  }
 ],
 "metadata": {
  "kernelspec": {
   "display_name": "Python 3 (ipykernel)",
   "language": "python",
   "name": "python3"
  },
  "language_info": {
   "codemirror_mode": {
    "name": "ipython",
    "version": 3
   },
   "file_extension": ".py",
   "mimetype": "text/x-python",
   "name": "python",
   "nbconvert_exporter": "python",
   "pygments_lexer": "ipython3",
   "version": "3.11.7"
  }
 },
 "nbformat": 4,
 "nbformat_minor": 5
}
