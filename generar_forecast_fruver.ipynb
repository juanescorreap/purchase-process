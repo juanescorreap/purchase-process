{
 "cells": [
  {
   "cell_type": "code",
   "execution_count": null,
   "id": "c8261f68-b3ba-4d2b-81aa-31a4adbf91e0",
   "metadata": {
    "tags": []
   },
   "outputs": [],
   "source": [
    "import numpy as np\n",
    "import pandas as pd\n",
    "import snowflake.connector\n",
    "import requests\n",
    "import io\n",
    "import os\n",
    "import pywhatkit as kit\n",
    "import time"
   ]
  },
  {
   "cell_type": "code",
   "execution_count": null,
   "id": "bc05a182-a46c-4501-9a2a-4eb4c06544a1",
   "metadata": {},
   "outputs": [],
   "source": [
    "#Conectar a snowflake con las credenciales\n",
    "snowflake_connection = snowflake.connector.connect(user='esteban.correa@RAPPI.COM', \n",
    "                                   authenticator='externalbrowser', \n",
    "                                   account='hg51401', \n",
    "                                   warehouse=\"RP_PERSONALUSER_WH\",\n",
    "                                   database=\"FIVETRAN\")"
   ]
  },
  {
   "cell_type": "code",
   "execution_count": null,
   "id": "7c68fd73-89a8-464a-b594-4fb82eaf09f1",
   "metadata": {},
   "outputs": [],
   "source": [
    "#Definir variable para la query de forecast\n",
    "query_forecast = \"\"\"\n",
    "SELECT\n",
    "    f.WAREHOUSE_ID,\n",
    "    w.WAREHOUSE,\n",
    "    f.PRODUCT_ID,\n",
    "    w.PRODUCT_NAME,\n",
    "    f.FORECAST,\n",
    "    f.SALES_UNITS,\n",
    "    f.DATE, \n",
    "    w.PROVIDER_NAME, \n",
    "    w.CAT_2\n",
    "FROM RP_SILVER_DB_PROD.TURBO_CORE.GLOBAL_FORECAST_MAIN f\n",
    "INNER JOIN (\n",
    "    SELECT DISTINCT \n",
    "        WAREHOUSE,\n",
    "        CITY,\n",
    "        WAREHOUSE_ID,\n",
    "        PROVIDER_NAME,\n",
    "        RETAIL_ID,\n",
    "        CAST(VIVO_ID AS NUMERIC) AS VIVO_ID,\n",
    "        CAT_2,\n",
    "        PRODUCT_NAME\n",
    "    FROM RP_SILVER_DB_PROD.TURBO_SUPPLY.CO_WISHLIST_V1 \n",
    ") w\n",
    "ON f.WAREHOUSE_ID = CAST(w.WAREHOUSE_ID AS INT)\n",
    "   AND f.PRODUCT_ID = w.RETAIL_ID\n",
    "WHERE f.country = 'CO'\n",
    "  AND f.DATE BETWEEN CURRENT_DATE AND CURRENT_DATE + INTERVAL '14 DAYS'\n",
    "  AND UPPER(w.CAT_2) = 'FRUTAS Y VERDURAS';\n",
    "\"\"\""
   ]
  },
  {
   "cell_type": "code",
   "execution_count": null,
   "id": "f990627c-0c67-4be1-bb46-9a72f8f88127",
   "metadata": {},
   "outputs": [],
   "source": [
    "#Ejecutar query de forecast en snowflake\n",
    "df = pd.read_sql(query_forecast, snowflake_connection)"
   ]
  },
  {
   "cell_type": "code",
   "execution_count": null,
   "id": "7a930c35-b2e3-4fbb-aa1c-82a4340b1d64",
   "metadata": {
    "tags": []
   },
   "outputs": [],
   "source": [
    "for provider in df['PROVIDER_NAME'].unique():\n",
    "    # Crear un archivo Excel para cada provider\n",
    "    file_name = f\"C:/Users/esteban.correa/Downloads/FORECAST_{provider}.xlsx\"\n",
    "    \n",
    "    # Usar un ExcelWriter para agregar múltiples hojas en un archivo\n",
    "    with pd.ExcelWriter(file_name, engine=\"openpyxl\") as writer:\n",
    "        for store in df['WAREHOUSE'].unique():\n",
    "            # Filtrar por provider y store\n",
    "            temp_df = df[(df['PROVIDER_NAME'] == provider) & (df['WAREHOUSE'] == store)]\n",
    "            \n",
    "            if temp_df.empty:\n",
    "                continue  # Saltar si no hay datos para esta combinación\n",
    "            \n",
    "            # Pivotear el DataFrame\n",
    "            pivot_df = temp_df.pivot_table(\n",
    "                index=[\"WAREHOUSE\", \"PRODUCT_ID\", \"PRODUCT_NAME\"],  # Índices de la tabla pivoteada\n",
    "                columns=\"DATE\",                       # Las fechas se convierten en columnas\n",
    "                values=\"FORECAST\",                    # Valores a pivotear\n",
    "                aggfunc=\"sum\"                         # Sumar si hay duplicados\n",
    "            ).reset_index()\n",
    "            \n",
    "            # Limpiar nombres de columnas\n",
    "            pivot_df.columns.name = None  # Remueve el nombre de las columnas\n",
    "            pivot_df = pivot_df.rename_axis(None, axis=1)  # Remueve índice nombrado\n",
    "            \n",
    "            # Escribir la hoja correspondiente a este store\n",
    "            pivot_df.to_excel(writer, index=False, sheet_name=f\"{store}\")\n",
    "            \n",
    "    print(f\"Archivo creado: {file_name}\")\n"
   ]
  }
 ],
 "metadata": {
  "kernelspec": {
   "display_name": "Python 3 (ipykernel)",
   "language": "python",
   "name": "python3"
  },
  "language_info": {
   "codemirror_mode": {
    "name": "ipython",
    "version": 3
   },
   "file_extension": ".py",
   "mimetype": "text/x-python",
   "name": "python",
   "nbconvert_exporter": "python",
   "pygments_lexer": "ipython3",
   "version": "3.11.7"
  }
 },
 "nbformat": 4,
 "nbformat_minor": 5
}
