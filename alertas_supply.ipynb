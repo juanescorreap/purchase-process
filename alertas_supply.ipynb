{
 "cells": [
  {
   "cell_type": "code",
   "execution_count": null,
   "id": "e60f4185-0bfd-466c-99dd-a2827181f2d6",
   "metadata": {
    "tags": []
   },
   "outputs": [],
   "source": [
    "from twilio.rest import Client\n",
    "\n",
    "# Tus credenciales de Twilio\n",
    "account_sid = 'AC3c846f6bd7be5a0e758ed150f2249f94'\n",
    "auth_token = '7c99c180a7eaf4d0d8f5a9670a35182e'\n",
    "\n",
    "client = Client(account_sid, auth_token)\n",
    "\n",
    "message = client.messages.create(\n",
    "    body='⚠️ ¡Alerta! Inventario bajo detectado. Esto es una prueba de Juan Esteban Correa',\n",
    "    from_='whatsapp:+14155238886',   # El número de sandbox de Twilio\n",
    "    to='whatsapp:+573017974885'      # Tu número de WhatsApp personal (+ país + número)\n",
    ")\n",
    "\n",
    "print(f'Mensaje enviado: {message.sid}')\n"
   ]
  }
 ],
 "metadata": {
  "kernelspec": {
   "display_name": "Python 3 (ipykernel)",
   "language": "python",
   "name": "python3"
  },
  "language_info": {
   "codemirror_mode": {
    "name": "ipython",
    "version": 3
   },
   "file_extension": ".py",
   "mimetype": "text/x-python",
   "name": "python",
   "nbconvert_exporter": "python",
   "pygments_lexer": "ipython3",
   "version": "3.11.7"
  }
 },
 "nbformat": 4,
 "nbformat_minor": 5
}
