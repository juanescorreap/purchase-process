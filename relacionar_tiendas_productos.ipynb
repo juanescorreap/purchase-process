{
 "cells": [
  {
   "cell_type": "code",
   "execution_count": null,
   "id": "1b43a03f-d963-4cf6-8b70-8ebc70aa8e50",
   "metadata": {
    "tags": []
   },
   "outputs": [],
   "source": [
    "import pandas as pd\n",
    "\n",
    "df = pd.read_csv(r\"C:\\Users\\juane\\Downloads\\Libro1.csv\")\n",
    "\n",
    "warehouse_ids = df['WH'].unique()\n",
    "product_ids = df['SKU'].unique()\n",
    "\n",
    "warehouse_df = pd.DataFrame(warehouse_ids, columns=['warehouse_id'])\n",
    "product_df = pd.DataFrame(product_ids, columns=['product_id'])\n",
    "\n",
    "warehouse_df['key'] = 1\n",
    "product_df['key'] = 1\n",
    "\n",
    "combined_df = pd.merge(warehouse_df, product_df, on='key').drop('key', axis=1)\n",
    "\n",
    "csv_filename = r\"C:\\Users\\juane\\Downloads\\warehouse_products.csv\"\n",
    "combined_df.to_csv(csv_filename, index=False)"
   ]
  }
 ],
 "metadata": {
  "kernelspec": {
   "display_name": "Python 3 (ipykernel)",
   "language": "python",
   "name": "python3"
  },
  "language_info": {
   "codemirror_mode": {
    "name": "ipython",
    "version": 3
   },
   "file_extension": ".py",
   "mimetype": "text/x-python",
   "name": "python",
   "nbconvert_exporter": "python",
   "pygments_lexer": "ipython3",
   "version": "3.11.7"
  }
 },
 "nbformat": 4,
 "nbformat_minor": 5
}
